{
  "nbformat": 4,
  "nbformat_minor": 0,
  "metadata": {
    "colab": {
      "private_outputs": true,
      "provenance": [],
      "authorship_tag": "ABX9TyOwTaBD0iYFTirrb+xPc990",
      "include_colab_link": true
    },
    "kernelspec": {
      "name": "python3",
      "display_name": "Python 3"
    },
    "language_info": {
      "name": "python"
    }
  },
  "cells": [
    {
      "cell_type": "markdown",
      "metadata": {
        "id": "view-in-github",
        "colab_type": "text"
      },
      "source": [
        "<a href=\"https://colab.research.google.com/github/Ganesh-Borkar/CSLab/blob/main/CSLab3.ipynb\" target=\"_parent\"><img src=\"https://colab.research.google.com/assets/colab-badge.svg\" alt=\"Open In Colab\"/></a>"
      ]
    },
    {
      "cell_type": "markdown",
      "source": [
        "# ***Borkar Ganesh Prakash***\n",
        "# ***Roll No-20***"
      ],
      "metadata": {
        "id": "yartqnOseKY8"
      }
    },
    {
      "cell_type": "markdown",
      "source": [
        "# ***Assignment No 3***\n",
        "Load the dataset: birthwt Risk Factors Associated with Low Infant Birth Weight at\n",
        "https://raw.github.com/neurospin/pystatsml/master/datasets/birthwt.csv\n",
        "1. Test the association of mother’s (bwt) age and birth weight using the correlation\n",
        "test and linear regeression.\n",
        "2. Test the association of mother’s weight (lwt) and birth weight using the\n",
        "correlation testand linear regeression.\n",
        "3. Produce two scatter plot of: (i) age by birth weight; (ii) mother’s weight by birth\n",
        "weight. Elaborate the Conclusion"
      ],
      "metadata": {
        "id": "9cxN82nweKJl"
      }
    },
    {
      "cell_type": "code",
      "execution_count": null,
      "metadata": {
        "id": "LRzRlg29b41I"
      },
      "outputs": [],
      "source": [
        "import numpy as np\n",
        "import pandas as pd\n",
        "import matplotlib.pyplot as plt\n",
        "from sklearn.linear_model import LinearRegression"
      ]
    },
    {
      "cell_type": "code",
      "source": [
        "df = pd.read_csv(\"/content/birthwt.csv\")\n",
        "def calc_covariance(dataset1,dataset2):\n",
        "    '''\n",
        " Def : Covariance measures the relationship trend\n",
        " between two sets of data.\n",
        " Formula : 1) Σ((X - X_mean)*(Y - Y_mean)) ∕ n\n",
        "    '''\n",
        "\n",
        "    mean1 = np.mean(dataset1)\n",
        "    mean2 = np.mean(dataset2)\n",
        "    return np.sum(np.multiply(dataset1-mean1,dataset2-mean2))/len(dataset1)\n",
        "def correlation(dataset1,dataset2):\n",
        "    '''\n",
        " Def : Covariance measures the relationship trend between two sets of data.\n",
        " Formula : 1) cov(x,y)/(std(x)*std(y))\n",
        " '''\n",
        "    cov =calc_covariance(dataset1,dataset2)\n",
        "    sd1 = np.std(dataset1)\n",
        "    sd2 = np.std(dataset2)\n",
        "    \n",
        "    return cov/(sd1*sd2)"
      ],
      "metadata": {
        "id": "ozx7pEx-cI02"
      },
      "execution_count": null,
      "outputs": []
    },
    {
      "cell_type": "code",
      "source": [
        "# Age of mother\n",
        "age = df[\"age\"]\n",
        "age = age.to_numpy()\n",
        "\n",
        "# Birth weight in grams\n",
        "birthwt = df[\"bwt\"]\n",
        "birthwt = birthwt.to_numpy()"
      ],
      "metadata": {
        "id": "FRFWDNIacKmI"
      },
      "execution_count": null,
      "outputs": []
    },
    {
      "cell_type": "code",
      "source": [
        "correlation(age, birthwt)"
      ],
      "metadata": {
        "id": "GrueQLl2cOqT"
      },
      "execution_count": null,
      "outputs": []
    },
    {
      "cell_type": "code",
      "source": [
        "# Converting birth weight from gram to kg for better scaling\n",
        "plt.scatter(age,birthwt/1000,c =\"green\")\n",
        "plt.xlabel(\"Age\")\n",
        "plt.ylabel(\"Birth weight(Kg)\")"
      ],
      "metadata": {
        "id": "umjL5f7jcOnL"
      },
      "execution_count": null,
      "outputs": []
    },
    {
      "cell_type": "code",
      "source": [
        "lr = LinearRegression()\n",
        "age = age.reshape(-1,1)\n",
        "lr.fit(age,birthwt)"
      ],
      "metadata": {
        "id": "ZZe-yuRLcXDz"
      },
      "execution_count": null,
      "outputs": []
    },
    {
      "cell_type": "code",
      "source": [
        "y = lr.predict(age)\n",
        "print(\"Coefficients :\",lr.coef_[0])\n",
        "print(\"intercept :\",lr.intercept_)"
      ],
      "metadata": {
        "id": "Ui_xCXCvcW3T"
      },
      "execution_count": null,
      "outputs": []
    },
    {
      "cell_type": "code",
      "source": [
        "plt.plot(age,y,color= \"red\")\n",
        "plt.scatter(age,birthwt,c= \"green\")\n",
        "plt.xlabel(\"Age\")\n",
        "plt.ylabel(\"Birth weight(g)\")\n",
        "plt.show()"
      ],
      "metadata": {
        "id": "yTjQRodmcWqj"
      },
      "execution_count": null,
      "outputs": []
    },
    {
      "cell_type": "code",
      "source": [
        "# Mother's weight during last menstrual period.(in pounds)\n",
        "motherswt = df[\"lwt\"]\n",
        "motherswt =motherswt.to_numpy()\n",
        "\n",
        "# converting in grams to pounds\n",
        "birthwt = birthwt/454\n",
        "correlation(motherswt,birthwt)"
      ],
      "metadata": {
        "id": "Wo1gK9_LcWcO"
      },
      "execution_count": null,
      "outputs": []
    },
    {
      "cell_type": "code",
      "source": [
        "plt.xlabel(\"Mother's weight\")\n",
        "plt.ylabel(\"Birth weight (Kg)\")\n",
        "plt.scatter(motherswt,birthwt,c = \"darkblue\")"
      ],
      "metadata": {
        "id": "02J4Y0GicxnU"
      },
      "execution_count": null,
      "outputs": []
    },
    {
      "cell_type": "code",
      "source": [
        "motherswt =motherswt.reshape(-1,1)\n",
        "lr.fit(motherswt,birthwt)"
      ],
      "metadata": {
        "id": "9y5DFq66cxaC"
      },
      "execution_count": null,
      "outputs": []
    },
    {
      "cell_type": "code",
      "source": [
        "z = lr.predict(motherswt)\n",
        "print(\"Coefficients :\",lr.coef_[0])\n",
        "print(\"intercept :\",lr.intercept_)"
      ],
      "metadata": {
        "id": "YWaFgEpFcxXc"
      },
      "execution_count": null,
      "outputs": []
    },
    {
      "cell_type": "code",
      "source": [
        "plt.plot(motherswt,z,c=\"orange\")\n",
        "plt.scatter(motherswt,birthwt,c =\"darkblue\")\n",
        "plt.xlabel(\"Mother's weight\")\n",
        "plt.ylabel(\"Birth weight\")\n",
        "plt.show()"
      ],
      "metadata": {
        "id": "Yr2gtG1scxOU"
      },
      "execution_count": null,
      "outputs": []
    },
    {
      "cell_type": "code",
      "source": [],
      "metadata": {
        "id": "xsPdQqRSc_1w"
      },
      "execution_count": null,
      "outputs": []
    }
  ]
}