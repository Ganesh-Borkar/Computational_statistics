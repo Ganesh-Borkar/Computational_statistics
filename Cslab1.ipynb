{
  "nbformat": 4,
  "nbformat_minor": 0,
  "metadata": {
    "colab": {
      "private_outputs": true,
      "provenance": [],
      "authorship_tag": "ABX9TyMGTHh9nIXXyBP44Jal1qix",
      "include_colab_link": true
    },
    "kernelspec": {
      "name": "python3",
      "display_name": "Python 3"
    },
    "language_info": {
      "name": "python"
    }
  },
  "cells": [
    {
      "cell_type": "markdown",
      "metadata": {
        "id": "view-in-github",
        "colab_type": "text"
      },
      "source": [
        "<a href=\"https://colab.research.google.com/github/Ganesh-Borkar/CSLab/blob/main/Cslab1.ipynb\" target=\"_parent\"><img src=\"https://colab.research.google.com/assets/colab-badge.svg\" alt=\"Open In Colab\"/></a>"
      ]
    },
    {
      "cell_type": "code",
      "execution_count": null,
      "metadata": {
        "id": "fQkf4HOy9HMg"
      },
      "outputs": [],
      "source": [
        "import pandas as pd \n",
        "import numpy as np \n",
        "import matplotlib.pyplot as plt\n",
        "#from statistics import covariance"
      ]
    },
    {
      "cell_type": "code",
      "source": [
        "x=[12,39,40,50,67,23,19,90]\n",
        "y=[1,2,3,4,5,6,7,8]"
      ],
      "metadata": {
        "id": "gUgjECPcH3k3"
      },
      "execution_count": null,
      "outputs": []
    },
    {
      "cell_type": "code",
      "source": [
        "x=np.array(x)\n",
        "y=np.array(y)"
      ],
      "metadata": {
        "id": "7RtN41IPH6r0"
      },
      "execution_count": null,
      "outputs": []
    },
    {
      "cell_type": "code",
      "source": [
        "# Mean, Variance, Standard Deviation, Covariance, Correlation and Standard error"
      ],
      "metadata": {
        "id": "JnIBb8_WH7Wy"
      },
      "execution_count": null,
      "outputs": []
    },
    {
      "cell_type": "code",
      "source": [
        "def calc_mean(dataset):\n",
        "    return dataset.sum()/len(dataset)\n",
        "\n",
        "def calc_variance(dataset,mean):\n",
        "    squared_diff=np.sum(np.square(dataset-mean))\n",
        "    return squared_diff/len(dataset)\n",
        "\n",
        "def calc_SD(variance):\n",
        "    return np.sqrt(variance)\n",
        "\n",
        "def calc_cov(dataset1,dataset2):\n",
        "    mean1=calc_mean(dataset1)\n",
        "    mean2=calc_mean(dataset2)\n",
        "    return np.sum(np.multiply(dataset1-mean1,dataset2-mean2))/len(dataset1)\n",
        "    \n",
        "\n",
        "def calc_corr(dataset1,dataset2):\n",
        "    mean1=calc_mean(dataset1)\n",
        "    mean2=calc_mean(dataset2)\n",
        "    num=np.sum(np.multiply(dataset1-mean1,dataset2-mean2))\n",
        "    de = np.multiply(np.sum(np.square(dataset1-mean1)),np.sum(np.square(dataset2-mean2)))\n",
        "    return num/np.sqrt(de)\n",
        "\n",
        "def calc_SE(SD,dataset):\n",
        "    return SD/np.sqrt(len(dataset))"
      ],
      "metadata": {
        "id": "JaOLas_mIaOn"
      },
      "execution_count": null,
      "outputs": []
    },
    {
      "cell_type": "code",
      "source": [
        "mean=calc_mean(x)\n",
        "variance=calc_variance(x,mean)\n",
        "SD=calc_SD(variance)\n",
        "cov=calc_cov(x,y)\n",
        "corr=calc_corr(x,y)\n",
        "SE=calc_SE(SD,x)\n",
        "print (mean,variance,SD,cov,corr,SE)"
      ],
      "metadata": {
        "id": "ZFhS2KQeIeC4"
      },
      "execution_count": null,
      "outputs": []
    },
    {
      "cell_type": "code",
      "source": [
        "np.var(x)"
      ],
      "metadata": {
        "id": "skBa2eScIhNw"
      },
      "execution_count": null,
      "outputs": []
    },
    {
      "cell_type": "code",
      "source": [
        "np.cov(x,y)"
      ],
      "metadata": {
        "id": "R5acXfkWIllc"
      },
      "execution_count": null,
      "outputs": []
    },
    {
      "cell_type": "code",
      "source": [],
      "metadata": {
        "id": "Y0x1jllYIqak"
      },
      "execution_count": null,
      "outputs": []
    }
  ]
}