{
 "cells": [
  {
   "cell_type": "code",
   "execution_count": 42,
   "id": "1914c71b",
   "metadata": {},
   "outputs": [],
   "source": [
    "import pandas as pd \n",
    "import numpy as np \n",
    "import matplotlib.pyplot as plt\n",
    "from statistics import covariance"
   ]
  },
  {
   "cell_type": "code",
   "execution_count": 21,
   "id": "a9c99c87",
   "metadata": {},
   "outputs": [],
   "source": [
    "x=[12,39,40,50,67,23,19,90]\n",
    "y=[1,2,3,4,5,6,7,8]"
   ]
  },
  {
   "cell_type": "code",
   "execution_count": 25,
   "id": "60037a7c",
   "metadata": {},
   "outputs": [],
   "source": [
    "x=np.array(x)\n",
    "y=np.array(y)\n"
   ]
  },
  {
   "cell_type": "code",
   "execution_count": null,
   "id": "d0676bdc",
   "metadata": {},
   "outputs": [],
   "source": [
    "# Mean, Variance, Standard Deviation, Covariance, Correlation and Standard error"
   ]
  },
  {
   "cell_type": "code",
   "execution_count": 46,
   "id": "31c0747e",
   "metadata": {},
   "outputs": [],
   "source": [
    "def calc_mean(dataset):\n",
    "    return dataset.sum()/len(dataset)\n",
    "\n",
    "def calc_variance(dataset,mean):\n",
    "    squared_diff=np.sum(np.square(dataset-mean))\n",
    "    return squared_diff/len(dataset)\n",
    "\n",
    "def calc_SD(variance):\n",
    "    return np.sqrt(variance)\n",
    "\n",
    "def calc_cov(dataset1,dataset2):\n",
    "    mean1=calc_mean(dataset1)\n",
    "    mean2=calc_mean(dataset2)\n",
    "    return np.sum(np.multiply(dataset1-mean1,dataset2-mean2))/len(dataset1)\n",
    "    \n",
    "\n",
    "def calc_corr(dataset1,dataset2):\n",
    "    mean1=calc_mean(dataset1)\n",
    "    mean2=calc_mean(dataset2)\n",
    "    num=np.sum(np.multiply(dataset1-mean1,dataset2-mean2))\n",
    "    de = np.multiply(np.sum(np.square(dataset1-mean1)),np.sum(np.square(dataset2-mean2)))\n",
    "    return num/np.sqrt(de)\n",
    "\n",
    "def calc_SE(SD,dataset):\n",
    "    return SD/np.sqrt(len(dataset))\n",
    "\n",
    "\n"
   ]
  },
  {
   "cell_type": "code",
   "execution_count": 47,
   "id": "ea67f7c6",
   "metadata": {},
   "outputs": [
    {
     "name": "stdout",
     "output_type": "stream",
     "text": [
      "42.5 599.25 24.479583329787296 24.75 0.4590854834313578 8.65483968655688\n"
     ]
    }
   ],
   "source": [
    "mean=calc_mean(x)\n",
    "variance=calc_variance(x,mean)\n",
    "SD=calc_SD(variance)\n",
    "cov=calc_cov(x,y)\n",
    "corr=calc_corr(x,y)\n",
    "SE=calc_SE(SD,x)\n",
    "print (mean,variance,SD,cov,corr,SE)"
   ]
  },
  {
   "cell_type": "code",
   "execution_count": 38,
   "id": "8113437a",
   "metadata": {},
   "outputs": [
    {
     "data": {
      "text/plain": [
       "599.25"
      ]
     },
     "execution_count": 38,
     "metadata": {},
     "output_type": "execute_result"
    }
   ],
   "source": [
    "np.var(x)"
   ]
  },
  {
   "cell_type": "code",
   "execution_count": 48,
   "id": "900b52c6",
   "metadata": {},
   "outputs": [
    {
     "data": {
      "text/plain": [
       "29.428571428571427"
      ]
     },
     "execution_count": 48,
     "metadata": {},
     "output_type": "execute_result"
    }
   ],
   "source": [
    "covariance(x,y)"
   ]
  },
  {
   "cell_type": "code",
   "execution_count": null,
   "id": "b6a37935",
   "metadata": {},
   "outputs": [],
   "source": []
  }
 ],
 "metadata": {
  "kernelspec": {
   "display_name": "Python 3 (ipykernel)",
   "language": "python",
   "name": "python3"
  },
  "language_info": {
   "codemirror_mode": {
    "name": "ipython",
    "version": 3
   },
   "file_extension": ".py",
   "mimetype": "text/x-python",
   "name": "python",
   "nbconvert_exporter": "python",
   "pygments_lexer": "ipython3",
   "version": "3.10.7"
  }
 },
 "nbformat": 4,
 "nbformat_minor": 5
}
