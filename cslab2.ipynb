{
  "nbformat": 4,
  "nbformat_minor": 0,
  "metadata": {
    "colab": {
      "private_outputs": true,
      "provenance": [],
      "authorship_tag": "ABX9TyMugKDglGiadiaSrVBa3BRh",
      "include_colab_link": true
    },
    "kernelspec": {
      "name": "python3",
      "display_name": "Python 3"
    },
    "language_info": {
      "name": "python"
    },
    "gpuClass": "standard"
  },
  "cells": [
    {
      "cell_type": "markdown",
      "metadata": {
        "id": "view-in-github",
        "colab_type": "text"
      },
      "source": [
        "<a href=\"https://colab.research.google.com/github/Ganesh-Borkar/CSLab/blob/main/cslab2.ipynb\" target=\"_parent\"><img src=\"https://colab.research.google.com/assets/colab-badge.svg\" alt=\"Open In Colab\"/></a>"
      ]
    },
    {
      "cell_type": "markdown",
      "source": [
        "#***Assignment No 2***"
      ],
      "metadata": {
        "id": "CtjoDMHiMvp1"
      }
    },
    {
      "cell_type": "code",
      "execution_count": null,
      "metadata": {
        "id": "fsNjGgXwK4Tq"
      },
      "outputs": [],
      "source": [
        "from scipy.stats import skew, kurtosis\n",
        "import matplotlib.pyplot as plt\n",
        "import scipy.stats as stats\n",
        "import pandas as pd\n",
        "import numpy as np\n",
        "import warnings \n",
        "warnings.filterwarnings(\"ignore\")"
      ]
    },
    {
      "cell_type": "code",
      "source": [
        "x=np.array([60,70,75,80,50,72,78,65,75,92,82,68,71,77,76,84])"
      ],
      "metadata": {
        "id": "1FxViJ3kMukC"
      },
      "execution_count": null,
      "outputs": []
    },
    {
      "cell_type": "code",
      "source": [
        "mean= np.mean(x)\n",
        "sd = np.std(x,ddof =1)\n",
        "median = np.median(x)\n",
        "fit = stats.norm.pdf(x,mean,sd)"
      ],
      "metadata": {
        "id": "zXkB7PesTFAB"
      },
      "execution_count": null,
      "outputs": []
    },
    {
      "cell_type": "code",
      "source": [
        "plt.hist(x, density = True, color =\"maroon\",ec =\"white\",)\n",
        "plt.plot(x,fit,\"go:\")\n",
        "plt.title(\"Math Scores\")\n",
        "plt.xlabel(\"Marks\")\n",
        "plt.ylabel(\"Normal Distribution\")\n",
        "\n",
        "plt.show()"
      ],
      "metadata": {
        "id": "t3S4jUzWOix9"
      },
      "execution_count": null,
      "outputs": []
    },
    {
      "cell_type": "code",
      "source": [],
      "metadata": {
        "id": "MAc_wQppS6H6"
      },
      "execution_count": null,
      "outputs": []
    }
  ]
}